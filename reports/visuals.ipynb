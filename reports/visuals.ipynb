{
 "cells": [
  {
   "cell_type": "markdown",
   "id": "3ca49db7",
   "metadata": {},
   "source": [
    "# 📊 Visuals: Model Metrics and Feature Importance"
   ]
  },
  {
   "cell_type": "code",
   "execution_count": null,
   "id": "c46d7a44",
   "metadata": {},
   "outputs": [],
   "source": [
    "import matplotlib.pyplot as plt\n",
    "import seaborn as sns\n",
    "import pandas as pd\n",
    "import numpy as np\n",
    "from sklearn.ensemble import ExtraTreesRegressor\n",
    "from sklearn.linear_model import LinearRegression\n",
    "from sklearn.preprocessing import normalize\n",
    "from sklearn.model_selection import train_test_split\n",
    "import kagglehub\n",
    "from kagglehub import KaggleDatasetAdapter\n",
    "\n",
    "# Load and preprocess data\n",
    "df = kagglehub.load_dataset(\n",
    "    KaggleDatasetAdapter.PANDAS,\n",
    "    \"mohansacharya/graduate-admissions\",\n",
    "    \"Admission_Predict_Ver1.1.csv\"\n",
    ")\n",
    "df = df.rename(columns={'Chance of Admit ': 'Chance of Admit'})\n",
    "df.drop('Serial No.', axis=1, inplace=True)\n",
    "X = df.drop('Chance of Admit', axis=1)\n",
    "y = df['Chance of Admit']\n",
    "X_norm = normalize(X)\n"
   ]
  },
  {
   "cell_type": "markdown",
   "id": "ac8aa5cb",
   "metadata": {},
   "source": [
    "## 🎯 Feature Importance Plots"
   ]
  },
  {
   "cell_type": "code",
   "execution_count": null,
   "id": "c0ce7aaf",
   "metadata": {},
   "outputs": [],
   "source": [
    "# Extra Trees\n",
    "etr = ExtraTreesRegressor().fit(X_norm, y)\n",
    "etr_importances = etr.feature_importances_\n",
    "sns.barplot(x=etr_importances, y=X.columns)\n",
    "plt.title(\"Feature Importances (Extra Trees)\")\n",
    "plt.show()\n",
    "\n",
    "# Linear Regression\n",
    "lr = LinearRegression().fit(X_norm, y)\n",
    "lr_importances = np.abs(lr.coef_)\n",
    "sns.barplot(x=lr_importances, y=X.columns)\n",
    "plt.title(\"Feature Importances (Linear Regression)\")\n",
    "plt.show()\n"
   ]
  }
 ],
 "metadata": {},
 "nbformat": 4,
 "nbformat_minor": 5
}